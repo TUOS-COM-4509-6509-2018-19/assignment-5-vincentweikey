{
 "cells": [
  {
   "cell_type": "markdown",
   "metadata": {},
   "source": [
    "# Generalization: Model Validation\n",
    "\n",
    "### 27th October 2015 Neil D. Lawrence"
   ]
  },
  {
   "cell_type": "markdown",
   "metadata": {},
   "source": [
    "If we had to summarise the objectives of machine learning in one word, a very good candidate for that word would be *generalization*. What is generalization? From a human perspective it might be summarised as the ability to take lessons learned in one domain and apply them to another domain. If we accept the definition given in the first session for machine learning, \n",
    "$$\n",
    "\\text{data} + \\text{model} \\xrightarrow{\\text{compute}} \\text{prediction}\n",
    "$$\n",
    "then we see that without a model we can't generalise: we only have data. Data is fine for answering very specific questions, like \"Who won the Olympic Marathon in 2012?\", because we have that answer stored, however, we are not given the answer to many other questions. For example, Alan Turing was a formidable marathon runner, in 1946 he ran a time 2 hours 46 minutes (just under four minutes per kilometer, faster than most of the other [Endcliffe Park Run](http://www.parkrun.org.uk/sheffieldhallam/) runners can do 5 km). What is the probability he would have won an Olympics if one had been held in 1946?  \n",
    "![Alan Turing, Times in the Times](http://www.turing.org.uk/turing/pi2/times2.gif)![Alan Turing running in 1946](http://www.turing.org.uk/turing/pi2/run.jpg)\n",
    "<center>*Alan Turing, in 1946 he was only 11 minutes slower than the winner of the 1948 games. Would he have won a hypothetical games held in 1946? Source: [Alan Turing Internet Scrapbook](http://www.turing.org.uk/scrapbook/run.html).*</center>\n",
    "To answer this question we need to generalize, but before we formalize the concept of generalization let's introduce some formal representation of what it means to generalize in machine learning.\n",
    "\n",
    "### Expected Loss\n",
    "\n",
    "Our objective function so far has been the negative log likelihood, which we have minimized (via the sum of squares error) to obtain our model. However, there is an alternative perspective on an objective function, that of a *loss function*. A loss function is a cost function associated with the penalty you might need to pay for a particular incorrect decision. One approach to machine learning involves specifying a loss function and considering how much a particular model is likely to cost us across its lifetime. We can represent this with an expectation. If our loss function is given as $L(y, x, \\mathbf{w})$ for a particular model that predicts $y$ given $x$ and $\\mathbf{w}$ then we are interested in minimizing the expected loss under the likely distribution of $y$ and $x$. To understand this formally we define the *true* distribution of the data samples, $y$, $x$. This is a very special distribution that we don't have access to very often, and to represent that we define it with a special letter 'P', $\\mathbb{P}(y, x)$. If we genuinely pay $L(y, x, \\mathbf{w})$ for every mistake we make, and the future test data is genuinely drawn from $\\mathbb{P}(y, x)$ then we can define our expected loss, or risk, to be,\n",
    "$$\n",
    "R(\\mathbf{w}) = \\int L(y, x, \\mathbf{w}) \\mathbb{P}(y, x) \\text{d}y \\text{d}x.\n",
    "$$\n",
    "Of course, in practice, this value can't be computed *but* it serves as a reminder of what it is we are aiming to minimize and under certain circumstances it can be approximated.\n",
    "\n",
    "### Sample Based Approximations\n",
    "\n",
    "A sample based approximation to an expectation involves replacing the true expectation with a sum over samples from the distribution. \n",
    "$$\n",
    "\\int f(z) p(z) \\text{d}y \\text{d}z\\approx \\frac{1}{s}\\sum_{i=1}^s f(z_i).\n",
    "$$\n",
    "if $\\{z_i\\}_{i=1}^s$ are a set of $s$ independent and identically distributed samples from the distribution $p(z)$. This approximation becomes better for larger $s$, although the *rate of convergence* to the true integral will be very dependent on the distribution $p(z)$ *and* the function $f(z)$. \n",
    "\n",
    "That said, this means we can approximate our true integral with the sum,\n",
    "$$\n",
    "R(\\mathbf{w}) \\approx \\frac{1}{n}\\sum_{i=1}^n L(y_i, x_i, \\mathbf{w}),\n",
    "$$\n",
    "if $y_i$ and $x_i$ are independent samples from the true distribution $\\mathbb{P}(y, x)$. Minimizing this sum directly is known as *empirical risk minimization*. The sum of squares error we have been using can be recovered for this case by considering a *squared loss*,\n",
    "$$\n",
    "L(y, x, \\mathbf{w}) = (y-\\mathbf{w}^\\top\\boldsymbol{\\phi}(x))^2\n",
    "$$\n",
    "which gives an empirical risk of the form\n",
    "$$\n",
    "R(\\mathbf{w}) \\approx \\frac{1}{n} \\sum_{i=1}^n (y_i - \\mathbf{w}^\\top \\boldsymbol{\\phi}(x_i))^2\n",
    "$$\n",
    "which up to the constant $\\frac{1}{n}$ is identical to the objective function we have been using so far.\n",
    "\n",
    "\n",
    "### Estimating Risk through Validation\n",
    "\n",
    "Unfortunately, minimising the empirial risk only guarantees something about our performance on the training data. If we don't have enough data for the approximation to the risk to be valid, then we can end up performing significantly worse on test data. Fortunately, we can also estimate the risk for test data through estimating the risk for unseen data.\n",
    "\n",
    "The main trick here is to 'hold out' a portion of our data from training and use the models performance on that sub-set of the data as a proxy for the true risk. This data is known as 'validation' data. It contrasts with test data, because it's values are known at the model design time. However, in contrast to test data we don't use it to fit our model. This means that it doesn't exhibit the same bias that the empirical risk does when estimating the true risk.\n",
    "\n",
    "In this lab we will explore techniques for model selection that make use of validation data. Data that isn't seen by the model in the learning (or fitting) phase, but is used to *validate* our choice of model from amongst the different designs we have selected.\n",
    "\n",
    "In machine learning, we are looking to minimise the value of our objective function $E$ with respect to its parameters $\\mathbf{w}$. We do this by considering our training data. We minimize the value of the objective function as it's observed at each training point. However we are really interested in how the model will perform on future data. For evaluating that we choose to *hold out* a portion of the data for evaluating the quality of the model.\n",
    "\n",
    "We will review the different methods of model selection on the Olympics marathon data. Firstly we import the olympics data. "
   ]
  },
  {
   "cell_type": "code",
   "execution_count": 59,
   "metadata": {},
   "outputs": [],
   "source": [
    "import numpy as np\n",
    "import pods\n",
    "data = pods.datasets.olympic_marathon_men()\n",
    "x = data['X']\n",
    "y = data['Y']"
   ]
  },
  {
   "cell_type": "markdown",
   "metadata": {},
   "source": [
    "We can plot them to check that they've loaded in correctly.\n"
   ]
  },
  {
   "cell_type": "code",
   "execution_count": 60,
   "metadata": {},
   "outputs": [
    {
     "data": {
      "text/plain": [
       "[<matplotlib.lines.Line2D at 0x10c349f28>]"
      ]
     },
     "execution_count": 60,
     "metadata": {},
     "output_type": "execute_result"
    },
    {
     "data": {
      "image/png": "[encoded data removed]",
      "text/plain": [
       "<Figure size 432x288 with 1 Axes>"
      ]
     },
     "metadata": {
      "needs_background": "light"
     },
     "output_type": "display_data"
    }
   ],
   "source": [
    "%matplotlib inline\n",
    "import pylab as plt\n",
    "plt.plot(x, y, 'rx')"
   ]
  },
  {
   "cell_type": "markdown",
   "metadata": {},
   "source": [
    "## Hold Out Validation\n",
    "\n",
    "The first thing we'll do is fit a standard linear model to the data. We recall from previous lectures and lab classes that to do this we need to solve the system\n",
    "$$\n",
    "\\boldsymbol{\\Phi}^\\top \\boldsymbol{\\Phi} \\mathbf{w} = \\boldsymbol{\\Phi}^\\top \\mathbf{y}\n",
    "$$\n",
    "for $\\mathbf{w}$  and use the resulting vector to make predictions at the training points and test points,\n",
    "$$\n",
    "\\mathbf{f} = \\boldsymbol{\\Phi} \\mathbf{w}.\n",
    "$$\n",
    "The prediction function can be used to compute the objective function,\n",
    "$$\n",
    "E(\\mathbf{w}) = \\sum_{i}^n (y_i - \\mathbf{w}^\\top\\phi(\\mathbf{x}_i))^2\n",
    "$$\n",
    "by substituting in the prediction in vector form we have\n",
    "$$\n",
    "E(\\mathbf{w}) =  (\\mathbf{y} - \\mathbf{f})^\\top(\\mathbf{y} - \\mathbf{f})\n",
    "$$"
   ]
  },
  {
   "cell_type": "markdown",
   "metadata": {},
   "source": [
    "### Assignment Question 1\n",
    "\n",
    "In this question you will construct some flexible general code for fitting linear models.\n",
    "\n",
    "Create a python function that computes $\\boldsymbol{\\Phi}$ for the linear basis,\n",
    "$$\\boldsymbol{\\Phi} = \\begin{bmatrix} \\mathbf{x} & \\mathbf{1}\\end{bmatrix}$$\n",
    "Name your function `linear`. `Phi` should be in the form of a *design matrix* and `x` should be in the form of a `numpy` two dimensional array with $n$ rows and 1 column\n",
    "Calls to your function should be in the following form:\n",
    "\n",
    "```python\n",
    "Phi = linear(x)\n",
    "```\n",
    "\n",
    "Create a python function that accepts, as arguments, a python function that defines a basis (like the one you've just created called `linear`) as well as a set of inputs and a vector of parameters. Your new python function should return a prediction. Name your function `prediction`. The return value `f` should be a two dimensional `numpy` array with $n$ rows and $1$ column, where $n$ is the number of data points. Calls to your function should be in the following form:\n",
    "\n",
    "```python\n",
    "f = prediction(w, x, linear)\n",
    "```\n",
    "\n",
    "Create a python function that computes the sum of squares objective function (or error function). It should accept your input data (or covariates) and target data (or response variables) and your parameter vector `w` as arguments. It should also accept a python function that represents the basis. Calls to your function should be in the following form:\n",
    "\n",
    "```python\n",
    "e = objective(w, x, y, linear)\n",
    "```\n",
    "\n",
    "Create a function that solves the linear system for the set of parameters that minimizes the sum of squares objective. It should accept input data, target data and a python function for the basis as the inputs. Calls to your function should be in the following form:\n",
    "\n",
    "```python\n",
    "w = fit(x, y, linear)\n",
    "```\n",
    "\n",
    "Fit a linear model to the olympic data using these functions and plot the resulting prediction between 1890 and 2020. Set the title of the plot to be the error of the fit on the *training data*.\n",
    "\n",
    "*15 marks*"
   ]
  },
  {
   "cell_type": "code",
   "execution_count": 61,
   "metadata": {},
   "outputs": [
    {
     "name": "stdout",
     "output_type": "stream",
     "text": [
      "error : 0.07333273218233927\n"
     ]
    },
    {
     "data": {
      "image/png": "[encoded data removed]",
      "text/plain": [
       "<Figure size 432x288 with 2 Axes>"
      ]
     },
     "metadata": {
      "needs_background": "light"
     },
     "output_type": "display_data"
    },
    {
     "data": {
      "text/plain": [
       "matrix([[ 2.88952457e+01],\n",
       "        [-1.29806477e-02]])"
      ]
     },
     "execution_count": 61,
     "metadata": {},
     "output_type": "execute_result"
    }
   ],
   "source": [
    "#### Question 1 Answer Code\n",
    "# Write code for you answer to this question in this box\n",
    "# Do not delete these comments, otherwise you will get zero for this answer.\n",
    "# Make sure your code has run and the answer is correct *before* submitting your notebook for marking.\n",
    "%matplotlib inline \n",
    "import pylab as plt\n",
    "import numpy as np\n",
    "import pods\n",
    "\n",
    "def linear(x, *args):\n",
    "    # should define n before use \n",
    "    n = len(x)\n",
    "    return np.hstack([np.ones((n, 1)), x])\n",
    "\n",
    "def prediction(w, x, func, *args):\n",
    "    Phi = func(x,args)\n",
    "    f = np.dot(Phi, w)\n",
    "    return f, Phi\n",
    "\n",
    "def objective(w, x, y, func, *args):\n",
    "    f,Phi = prediction(w, x, func, args)\n",
    "    return np.sum((y-f)**2)\n",
    "\n",
    "def draw_plot(x,y,y_):\n",
    "    fig = plt.figure()\n",
    "    ax1 = fig.add_subplot(121)\n",
    "    ax1.set_title(\"fitting map\")\n",
    "    ax1.plot(x, y, 'rx')\n",
    "    ax1.plot(x,y_,color='b',linestyle='-')\n",
    "    ax2 = fig.add_subplot(122)\n",
    "    ax2.set_title(\"the error of the fit on the training data.\")\n",
    "    ax2.plot(x,abs(y-y_),color='r',linestyle='-')\n",
    "    plt.show()\n",
    "\n",
    "def fit(x, y, func, *args):\n",
    "    n = len(x)\n",
    "    mat_a = np.matrix(np.dot(func(x,args).T,func(x,args))).I\n",
    "    mat_b = func(x,args).T\n",
    "    result = np.dot(np.dot(mat_a,mat_b),y)\n",
    "    y_ = func(x,args)*result\n",
    "    error = np.dot((y-y_).T,(y-y_))/n\n",
    "    print ('error :',float(error))\n",
    "    draw_plot(x,y,y_)\n",
    "    return result\n",
    "\n",
    "def get_data(up_year,down_year):\n",
    "    data = pods.datasets.olympic_marathon_men()\n",
    "    x = data['X']\n",
    "    y = data['Y']\n",
    "\n",
    "fit(x, y, linear)"
   ]
  },
  {
   "cell_type": "markdown",
   "metadata": {},
   "source": [
    "## Polynomial Fit: Training Error\n",
    "\n",
    "The next thing we'll do is consider a quadratic fit. We will compute the training error for the two fits.\n"
   ]
  },
  {
   "cell_type": "markdown",
   "metadata": {},
   "source": [
    "### Assignment Question 2\n",
    "\n",
    "In this question we extend the code above to a non-linear basis (a quadratic function).\n",
    "\n",
    "Start by creating a python-function called `quadratic`. It should compute the quadratic basis.\n",
    "$$\\boldsymbol{\\Phi} = \\begin{bmatrix} \\mathbf{1} & \\mathbf{x} & \\mathbf{x}^2\\end{bmatrix}$$\n",
    "It should be called in the following form:\n",
    "```python\n",
    "Phi = quadratic(x)\n",
    "```\n",
    "Use this to compute the quadratic fit for the model, again plotting the result titled by the error.\n",
    "\n",
    "*10 marks*"
   ]
  },
  {
   "cell_type": "code",
   "execution_count": 62,
   "metadata": {},
   "outputs": [
    {
     "name": "stdout",
     "output_type": "stream",
     "text": [
      "error : 0.04261168162348775\n"
     ]
    },
    {
     "data": {
      "image/png": "[encoded data removed]",
      "text/plain": [
       "<Figure size 432x288 with 2 Axes>"
      ]
     },
     "metadata": {
      "needs_background": "light"
     },
     "output_type": "display_data"
    },
    {
     "data": {
      "text/plain": [
       "matrix([[ 6.43641952e+02],\n",
       "        [-6.42502986e-01],\n",
       "        [ 1.61109703e-04]])"
      ]
     },
     "execution_count": 62,
     "metadata": {},
     "output_type": "execute_result"
    }
   ],
   "source": [
    "#### Question 2 Answer Code\n",
    "# Write code for you answer to this question in this box\n",
    "# Do not delete these comments, otherwise you will get zero for this answer.\n",
    "# Make sure your code has run and the answer is correct *before* submitting your notebook for marking.\n",
    "\n",
    "def quadratic(x,*args):\n",
    "    n = len(x)\n",
    "    return np.hstack([np.ones((n, 1)), x, x**2])\n",
    "\n",
    "fit(x, y, quadratic)"
   ]
  },
  {
   "cell_type": "markdown",
   "metadata": {},
   "source": [
    "### Hold Out Data\n",
    "\n",
    "You have a conclusion as to which model fits best under the training error, but how do the two models perform in terms of validation? In this section we consider *hold out* validation. In hold out validation we remove a portion of the training data for *validating* the model on. The remaining data is used for fitting the model (training). Because this is a time series prediction, it makes sense for us to hold out data at the end of the time series. This means that we are validating on future predictions. We will hold out data from after 1980 and fit the model to the data before 1980. "
   ]
  },
  {
   "cell_type": "code",
   "execution_count": 63,
   "metadata": {},
   "outputs": [],
   "source": [
    "# select indices of data to 'hold out'\n",
    "indices_hold_out = np.flatnonzero(x>1980)\n",
    "\n",
    "# Create a training set\n",
    "x_train = np.delete(x, indices_hold_out, axis=0)\n",
    "y_train = np.delete(y, indices_hold_out, axis=0)\n",
    "\n",
    "# Create a hold out set\n",
    "x_valid = np.take(x, indices_hold_out, axis=0)\n",
    "y_valid = np.take(y, indices_hold_out, axis=0)"
   ]
  },
  {
   "cell_type": "markdown",
   "metadata": {},
   "source": [
    "### Assignment Question 3\n",
    "\n",
    "For both the linear and quadratic models, fit the model to the data up until 1980 and then compute the error on the held out data (from 1980 onwards). Which model performs better on the validation data?\n",
    "\n",
    "*10 marks*"
   ]
  },
  {
   "cell_type": "code",
   "execution_count": 64,
   "metadata": {},
   "outputs": [
    {
     "name": "stdout",
     "output_type": "stream",
     "text": [
      " linear\n",
      "\n",
      "training error : 0.07330403986375045\n"
     ]
    },
    {
     "data": {
      "image/png": "[encoded data removed]",
      "text/plain": [
       "<Figure size 432x288 with 2 Axes>"
      ]
     },
     "metadata": {
      "needs_background": "light"
     },
     "output_type": "display_data"
    },
    {
     "data": {
      "image/png": "[encoded data removed]",
      "text/plain": [
       "<Figure size 432x288 with 2 Axes>"
      ]
     },
     "metadata": {
      "needs_background": "light"
     },
     "output_type": "display_data"
    },
    {
     "name": "stdout",
     "output_type": "stream",
     "text": [
      "valid error : 0.23894965660638637\n",
      "\n",
      " quadratic\n",
      "\n",
      "training error : 0.057817694206446626\n"
     ]
    },
    {
     "data": {
      "image/png": "[encoded data removed]",
      "text/plain": [
       "<Figure size 432x288 with 2 Axes>"
      ]
     },
     "metadata": {
      "needs_background": "light"
     },
     "output_type": "display_data"
    },
    {
     "data": {
      "image/png": "[encoded data removed]",
      "text/plain": [
       "<Figure size 432x288 with 2 Axes>"
      ]
     },
     "metadata": {
      "needs_background": "light"
     },
     "output_type": "display_data"
    },
    {
     "name": "stdout",
     "output_type": "stream",
     "text": [
      "valid error : 0.04218824325202744\n"
     ]
    },
    {
     "data": {
      "text/plain": [
       "(matrix([[0.05781769]]), matrix([[0.04218824]]))"
      ]
     },
     "execution_count": 64,
     "metadata": {},
     "output_type": "execute_result"
    }
   ],
   "source": [
    "#### Question 3 Answer Code\n",
    "# Write code for you answer to this question in this box\n",
    "# Do not delete these comments, otherwise you will get zero for this answer.\n",
    "# Make sure your code has run and the answer is correct *before* submitting your notebook for marking.\n",
    "\n",
    "def get_fit_param(x,y,func,*args):\n",
    "    n = len(x)\n",
    "    mat_a = np.matrix(np.dot(func(x,args).T,func(x,args))).I\n",
    "    mat_b = func(x,args).T\n",
    "    result = np.dot(np.dot(mat_a,mat_b),y)\n",
    "    y_ = func(x,args)*result\n",
    "    error = np.dot((y-y_).T,(y-y_))/n\n",
    "    print ('training error :',float(error))\n",
    "    draw_plot(x,y,y_)\n",
    "    return result,error \n",
    "    \n",
    "def draw_valid(x_valid,y_valid,result,func,*args):\n",
    "    n = len(x_valid)\n",
    "    y_ = func(x_valid,args)*result\n",
    "    draw_plot(x_valid,y_valid,y_)\n",
    "    error = np.dot((y_valid-y_).T,(y_valid-y_))/n\n",
    "    print ('valid error :',float(error))\n",
    "    return error\n",
    "\n",
    "def train_and_valid(x_train,y_train,x_valid,y_valid,func,*args):\n",
    "    result,train_error = get_fit_param(x_train,y_train,func,args)\n",
    "    valid_error = draw_valid(x_valid,y_valid,result,func,args)\n",
    "    return train_error,valid_error\n",
    "\n",
    "print (' linear\\n')\n",
    "train_and_valid(x_train,y_train,x_valid,y_valid,linear)\n",
    "\n",
    "\n",
    "print ('\\n quadratic\\n' )\n",
    "train_and_valid(x_train,y_train,x_valid,y_valid,quadratic)\n"
   ]
  },
  {
   "cell_type": "markdown",
   "metadata": {},
   "source": [
    "### Richer Basis Set\n",
    "\n",
    "Now we have an approach for deciding which model to retain, we can consider the entire family of polynomial bases, with arbitrary degrees.  "
   ]
  },
  {
   "cell_type": "markdown",
   "metadata": {},
   "source": [
    "### Assignment Question 4\n",
    "\n",
    "Now we are going to build a more sophisticated form of basis function, one that can accept arguments to its inputs (similar to those we used in the lab for week 4). Here we will start with a polynomial basis.\n",
    "\n",
    "```python\n",
    "def polynomial(x, degree, loc, scale):\n",
    "    degrees = np.arange(degree+1)\n",
    "    return ((x-loc)/scale)**degrees\n",
    "```\n",
    "The basis as we've defined it has three arguments as well as the input. The degree of the polynomial, the scale of the polynomial and the offset. These arguments need to be passed to the basis functions whenever they are called. Modify your code to pass these additional arguments to the python function for creating the basis. Do this for each of your functions `predict`, `fit` and `objective`. You will find `*args` (or `**kwargs`) useful.\n",
    "\n",
    "Write code that tries to fit different models to the data with polynomial basis. Use a maximum degree for your basis from 0 to 17. For each polynomial store the *hold out validation error* and the *training error*. When you have finished the computation plot the hold out error for your models and the training error for your p. When computing your polynomial basis use `offset=1956.` and `scale=120.` to ensure that the data is mapped (roughly) to the -1, 1 range.\n",
    "\n",
    "Which polynomial has the minimum training error? Which polynomial has the minimum validation error?\n",
    "\n",
    "*25 marks*"
   ]
  },
  {
   "cell_type": "code",
   "execution_count": 65,
   "metadata": {},
   "outputs": [
    {
     "name": "stdout",
     "output_type": "stream",
     "text": [
      "\n",
      " degree is : 0\n",
      "training error : 0.30191215832034146\n",
      "valid error : 0.3516640996784175\n",
      "\n",
      " degree is : 1\n",
      "training error : 0.07330403986375036\n",
      "valid error : 0.23894965660937512\n",
      "\n",
      " degree is : 2\n",
      "training error : 0.05781769420644658\n",
      "valid error : 0.04218822802057032\n",
      "\n",
      " degree is : 3\n",
      "training error : 0.05494278032571318\n",
      "valid error : 0.31421819092002745\n",
      "\n",
      " degree is : 4\n",
      "training error : 0.0539058968384284\n",
      "valid error : 3.2963218643280547\n",
      "\n",
      " degree is : 5\n",
      "training error : 0.04264433307945513\n",
      "valid error : 105.65941389358893\n",
      "\n",
      " degree is : 6\n",
      "training error : 0.03309048114050641\n",
      "valid error : 560.785582905585\n",
      "\n",
      " degree is : 7\n",
      "training error : 0.03212037780801335\n",
      "valid error : 95.54189788738441\n",
      "\n",
      " degree is : 8\n",
      "training error : 0.032045077041267946\n",
      "valid error : 1450.7280767901054\n",
      "\n",
      " degree is : 9\n",
      "training error : 0.03142995377683526\n",
      "valid error : 65205.68160111596\n",
      "\n",
      " degree is : 10\n",
      "training error : 0.016774834769781945\n",
      "valid error : 17556311.51162\n",
      "\n",
      " degree is : 11\n",
      "training error : 0.010347813033306138\n",
      "valid error : 50634773.96012314\n",
      "\n",
      " degree is : 12\n",
      "training error : 0.009168682258511104\n",
      "valid error : 89853442.41458865\n",
      "\n",
      " degree is : 13\n",
      "training error : 0.00681389901327155\n",
      "valid error : 9241299490.345116\n",
      "\n",
      " degree is : 14\n",
      "training error : 0.00584448675397503\n",
      "valid error : 16167885791.34041\n",
      "\n",
      " degree is : 15\n",
      "training error : 0.007627014815565585\n",
      "valid error : 3116503816511.5566\n",
      "\n",
      " degree is : 16\n",
      "training error : 0.31050327944450096\n",
      "valid error : 378187389505.139\n",
      "\n",
      " degree is : 17\n",
      "training error : 0.7553475794721088\n",
      "valid error : 182242701235.66208\n",
      "minimun train error  0.00584448675397503  which degree is 14\n",
      "minimun valid error  0.05781769420644658  which degree is 2\n"
     ]
    }
   ],
   "source": [
    "#### Question 4 Answer Code\n",
    "# Write code for you answer to this question in this box\n",
    "# Do not delete these comments, otherwise you will get zero for this answer.\n",
    "# Make sure your code has run and the answer is correct *before* submitting your notebook for marking.\n",
    "%matplotlib inline \n",
    "import pylab as plt\n",
    "import numpy as np\n",
    "import pods\n",
    "\n",
    "def linear(x, *args):\n",
    "    # should define n before use \n",
    "    n = len(x)\n",
    "    return np.hstack([np.ones((n, 1)), x])\n",
    "\n",
    "def prediction(w, x, func, *args):\n",
    "    Phi = func(x,args)\n",
    "    f = np.dot(Phi, w)\n",
    "    return f, Phi\n",
    "\n",
    "def objective(w, x, y, func, *args):\n",
    "    f,Phi = prediction(w, x, func, args)\n",
    "    return np.sum((y-f)**2)\n",
    "\n",
    "def draw_plot(x,y,y_):\n",
    "    fig = plt.figure()\n",
    "    ax1 = fig.add_subplot(121)\n",
    "    ax1.set_title(\"fitting map\")\n",
    "    ax1.plot(x, y, 'rx')\n",
    "    ax1.plot(x,y_,color='b',linestyle='-')\n",
    "    ax2 = fig.add_subplot(122)\n",
    "    ax2.set_title(\"the error of the fit on the training data.\")\n",
    "    ax2.plot(x,abs(y-y_),color='r',linestyle='-')\n",
    "    plt.show()\n",
    "\n",
    "def fit(x, y, func, *args):\n",
    "    n = len(x)\n",
    "    mat_a = np.matrix(np.dot(func(x,args).T,func(x,args))).I\n",
    "    mat_b = func(x,args).T\n",
    "    result = np.dot(np.dot(mat_a,mat_b),y)\n",
    "    y_ = func(x,args)*result\n",
    "    error = np.dot((y-y_).T,(y-y_))/n\n",
    "    print ('error :',float(error))\n",
    "    #draw_plot(x,y,y_)\n",
    "    return result\n",
    "\n",
    "def get_data(up_year,down_year):\n",
    "    data = pods.datasets.olympic_marathon_men()\n",
    "    x = data['X']\n",
    "    y = data['Y']\n",
    "\n",
    "def polynomial(x, *args):\n",
    "    degree,loc,scale = args[0][0]\n",
    "    degrees = np.arange(degree+1)\n",
    "    return ((x-loc)/scale)**degrees\n",
    "\n",
    "def get_fit_param(x,y,func,*args):\n",
    "    n = len(x)\n",
    "    mat_a = np.matrix(np.dot(func(x,args).T,func(x,args))).I\n",
    "    mat_b = func(x,args).T\n",
    "    result = np.dot(np.dot(mat_a,mat_b),y)\n",
    "    y_ = func(x,args)*result\n",
    "    error = np.dot((y-y_).T,(y-y_))/n\n",
    "    print ('training error :',float(error))\n",
    "    #draw_plot(x,y,y_)\n",
    "    return result,error \n",
    "    \n",
    "def draw_valid(x_valid,y_valid,result,func,*args):\n",
    "    n = len(x_valid)\n",
    "    y_ = func(x_valid,args)*result\n",
    "    #draw_plot(x_valid,y_valid,y_)\n",
    "    error = np.dot((y_valid-y_).T,(y_valid-y_))/n\n",
    "    print ('valid error :',float(error))\n",
    "    return error\n",
    "\n",
    "def train_and_valid(x_train,y_train,x_valid,y_valid,func,*args):\n",
    "    result,train_error = get_fit_param(x_train,y_train,func,args)\n",
    "    valid_error = draw_valid(x_valid,y_valid,result,func,args)\n",
    "    return train_error,valid_error\n",
    "\n",
    "for num in range(18):   \n",
    "    print ('\\n degree is :',num)\n",
    "    train_error,valid_error = train_and_valid(x_train,y_train,x_valid,y_valid,polynomial,num,1956,120)\n",
    "    if num == 0:\n",
    "        minimun_training_error = train_error\n",
    "        minimun_training_degree = 0\n",
    "        minimun_valid_error = valid_error\n",
    "        minimun_valid_degree = 0\n",
    "    if minimun_training_error > train_error:\n",
    "        minimun_training_degree = num\n",
    "        minimun_training_error = train_error\n",
    "    if minimun_valid_error > valid_error:\n",
    "        minimun_valid_degree = num\n",
    "        minimun_valid_error = train_error\n",
    "\n",
    "print ('minimun train error ', float(minimun_training_error), ' which degree is', minimun_training_degree)\n",
    "print ('minimun valid error ', float(minimun_valid_error), ' which degree is', minimun_valid_degree)"
   ]
  },
  {
   "cell_type": "code",
   "execution_count": 66,
   "metadata": {},
   "outputs": [
    {
     "name": "stdout",
     "output_type": "stream",
     "text": [
      "minimun train error  0.00584448675397503  which degree is 14\n",
      "minimun valid error  0.05781769420644658  which degree is 2\n"
     ]
    }
   ],
   "source": [
    "print ('minimun train error ', float(minimun_training_error), ' which degree is', minimun_training_degree)\n",
    "print ('minimun valid error ', float(minimun_valid_error), ' which degree is', minimun_valid_degree)"
   ]
  },
  {
   "cell_type": "markdown",
   "metadata": {},
   "source": [
    "## Leave One Out Validation\n",
    "\n",
    "Hold out validation uses a portion of the data to hold out and a portion of the data to train on. There is always a compromise between how much data to hold out and how much data to train on. The more data you hold out, the better the estimate of your performance at 'run-time' (when the model is used to make predictions in real applications). However, by holding out more data, you leave less data to train on, so you have a better validation, but a poorer quality model fit than you could have had if you'd used all the data for training. Leave one out cross validation leaves as much data in the training phase as possible: you only take *one point* out for your validation set. However, if you do this for hold-out validation, then the quality of your validation error is very poor because you are testing the model quality on one point only. In *cross validation* the approach is to improve this estimate by doing more than one model fit. In *leave one out cross validation* you fit $n$ different models, where $n$ is the number of your data. For each model fit you take out one data point, and train the model on the remaining $n-1$ data points. You validate the model on the data point you've held out, but you do this $n$ times, once for each different model. You then take the *average* of all the $n$ badly estimated hold out validation errors. The average of this estimate is a good estimate of performance of those models on the test data. "
   ]
  },
  {
   "cell_type": "markdown",
   "metadata": {},
   "source": [
    "### Assignment Question 5\n",
    "\n",
    "Write code that computes the *leave one out* validation error for the olympic data and the polynomial basis. Use the functions you have created above: `objective`, `fit`, `polynomial`. Compute the *leave-one-out* cross validation error for basis functions containing a maximum degree from 0 to 17.\n",
    "\n",
    "*20 marks*"
   ]
  },
  {
   "cell_type": "code",
   "execution_count": 67,
   "metadata": {},
   "outputs": [
    {
     "name": "stdout",
     "output_type": "stream",
     "text": [
      "\n",
      " degree is : 0\n",
      "average train error  0.02135378687759825 average valid error 0.01744540711635151\n",
      "\n",
      " degree is : 1\n",
      "average train error  0.005427260057091992 average valid error 0.006373030630909045\n",
      "\n",
      " degree is : 2\n",
      "average train error  0.003248085175176733 average valid error 0.0010590493070221532\n",
      "\n",
      " degree is : 3\n",
      "average train error  0.0030870565121160704 average valid error 4.0177134407635404e-05\n",
      "\n",
      " degree is : 4\n",
      "average train error  0.0030792577888968976 average valid error 2.7289081116163797e-05\n",
      "\n",
      " degree is : 5\n",
      "average train error  0.0030369525682559487 average valid error 0.001524217691420625\n",
      "\n",
      " degree is : 6\n",
      "average train error  0.0023048519913903102 average valid error 0.024886096384986164\n",
      "\n",
      " degree is : 7\n",
      "average train error  0.0018644300842025371 average valid error 0.0026168174120983095\n",
      "\n",
      " degree is : 8\n",
      "average train error  0.001762909749658693 average valid error 0.007693386308956277\n",
      "\n",
      " degree is : 9\n",
      "average train error  0.0017629090540190234 average valid error 0.007789068350827571\n",
      "\n",
      " degree is : 10\n",
      "average train error  0.0017229930171204564 average valid error 0.01058944186303202\n",
      "\n",
      " degree is : 11\n",
      "average train error  0.0015755907240700515 average valid error 0.2559101739196834\n",
      "\n",
      " degree is : 12\n",
      "average train error  0.0011321953369846384 average valid error 1.1663462476180615\n",
      "\n",
      " degree is : 13\n",
      "average train error  0.0005771986275614463 average valid error 4.388451841338536\n",
      "\n",
      " degree is : 14\n",
      "average train error  0.0004872562913862907 average valid error 0.01732129395929026\n",
      "\n",
      " degree is : 15\n",
      "average train error  0.0004715247692090747 average valid error 2.528846422534309\n",
      "\n",
      " degree is : 16\n",
      "average train error  0.00040514331281678713 average valid error 28.150866283099585\n",
      "\n",
      " degree is : 17\n",
      "average train error  0.0002681684970111578 average valid error 180.18747322542828\n",
      "minimun train error  0.007240549419301261  which degree is 17\n",
      "minimun valid error  0.050339612273468504  which degree is 7\n"
     ]
    }
   ],
   "source": [
    "#### Question 5 Answer Code\n",
    "# Write code for you answer to this question in this box\n",
    "# Do not delete these comments, otherwise you will get zero for this answer.\n",
    "# Make sure your code has run and the answer is correct *before* submitting your notebook for marking.\n",
    "\n",
    "%matplotlib inline \n",
    "import pylab as plt\n",
    "import numpy as np\n",
    "import pods\n",
    "\n",
    "def linear(x, *args):\n",
    "    # should define n before use \n",
    "    n = len(x)\n",
    "    return np.hstack([np.ones((n, 1)), x])\n",
    "\n",
    "def prediction(w, x, func, *args):\n",
    "    Phi = func(x,args)\n",
    "    f = np.dot(Phi, w)\n",
    "    return f, Phi\n",
    "\n",
    "def objective(w, x, y, func, *args):\n",
    "    f,Phi = prediction(w, x, func, args)\n",
    "    return np.sum((y-f)**2)\n",
    "\n",
    "def draw_plot(x,y,y_):\n",
    "    fig = plt.figure()\n",
    "    ax1 = fig.add_subplot(121)\n",
    "    ax1.set_title(\"fitting map\")\n",
    "    ax1.plot(x, y, 'rx')\n",
    "    ax1.plot(x,y_,color='b',linestyle='-')\n",
    "    ax2 = fig.add_subplot(122)\n",
    "    ax2.set_title(\"the error of the fit on the training data.\")\n",
    "    ax2.plot(x,abs(y-y_),color='r',linestyle='-')\n",
    "    plt.show()\n",
    "\n",
    "def fit(x, y, func, *args):\n",
    "    n = len(x)\n",
    "    mat_a = np.matrix(np.dot(func(x,args).T,func(x,args))).I\n",
    "    mat_b = func(x,args).T\n",
    "    result = np.dot(np.dot(mat_a,mat_b),y)\n",
    "    y_ = func(x,args)*result\n",
    "    error = np.dot((y-y_).T,(y-y_))/n\n",
    "    #print ('error :',float(error))\n",
    "    #draw_plot(x,y,y_)\n",
    "    return result\n",
    "\n",
    "def get_data(up_year,down_year):\n",
    "    data = pods.datasets.olympic_marathon_men()\n",
    "    x = data['X']\n",
    "    y = data['Y']\n",
    "\n",
    "def polynomial(x, *args):\n",
    "    degree,loc,scale = args[0][0]\n",
    "    degrees = np.arange(degree+1)\n",
    "    return ((x-loc)/scale)**degrees\n",
    "\n",
    "def get_fit_param(x,y,func,*args):\n",
    "    n = len(x)\n",
    "    mat_a = np.matrix(np.dot(func(x,args).T,func(x,args))).I\n",
    "    mat_b = func(x,args).T\n",
    "    result = np.dot(np.dot(mat_a,mat_b),y)\n",
    "    y_ = func(x,args)*result\n",
    "    error = np.dot((y-y_).T,(y-y_))/n\n",
    "    #print ('training error :',float(error))\n",
    "    #draw_plot(x,y,y_)\n",
    "    return result,error \n",
    "    \n",
    "def draw_valid(x_valid,y_valid,result,func,*args):\n",
    "    n = len(x_valid)\n",
    "    y_ = func(x_valid,args)*result\n",
    "    #draw_plot(x_valid,y_valid,y_)\n",
    "    error = np.dot((y_valid-y_).T,(y_valid-y_))/n\n",
    "    #print ('valid error :',float(error))\n",
    "    return error\n",
    "\n",
    "def train_and_valid(x_train,y_train,x_valid,y_valid,func,*args):\n",
    "    result,train_error = get_fit_param(x_train,y_train,func,args)\n",
    "    valid_error = draw_valid(x_valid,y_valid,result,func,args)\n",
    "    return train_error,valid_error\n",
    "\n",
    "\n",
    "def get_data_and_train_and_valid():\n",
    "    data = pods.datasets.olympic_marathon_men()\n",
    "    x = data['X']\n",
    "    y = data['Y']\n",
    "    for num in range(18):   \n",
    "        print ('\\n degree is :',num)\n",
    "        train_error,valid_error = 0,0\n",
    "        for index in range(len(x)):\n",
    "            x_valid = x[index:index+1]          \n",
    "            x_train = np.concatenate((x[0:index], x[index+1:]), axis=0)\n",
    "            y_valid = y[index:index+1]          \n",
    "            y_train = np.concatenate((y[0:index], y[index+1:]), axis=0)\n",
    "            train_error,valid_error = train_and_valid(x_train,y_train,x_valid,y_valid,polynomial,num,1956,120)\n",
    "            train_error +=  train_error\n",
    "            valid_error += valid_error\n",
    "        if num == 0:\n",
    "            minimun_training_error = train_error\n",
    "            minimun_training_degree = 0\n",
    "            minimun_valid_error = valid_error\n",
    "            minimun_valid_degree = 0\n",
    "        if minimun_training_error > train_error:\n",
    "            minimun_training_degree = num\n",
    "            minimun_training_error = train_error\n",
    "        if minimun_valid_error > valid_error:\n",
    "            minimun_valid_degree = num\n",
    "            minimun_valid_error = train_error\n",
    "        print('average train error ',float(train_error/len(x)),'average valid error',float(valid_error/len(x)))\n",
    "\n",
    "    print ('minimun train error ', float(minimun_training_error), ' which degree is', minimun_training_degree)\n",
    "    print ('minimun valid error ', float(minimun_valid_error), ' which degree is', minimun_valid_degree)\n",
    "get_data_and_train_and_valid()"
   ]
  },
  {
   "cell_type": "markdown",
   "metadata": {},
   "source": [
    "## $k$-fold Cross Validation\n",
    "\n",
    "Leave one out cross validation produces a very good estimate of the performance at test time, and is particularly useful if you don't have a lot of data. In these cases you need to make as much use of your data for model fitting as possible, and having a large hold out data set (to validate model performance) can have a significant effect on the size of the data set you have to fit your model, and correspondingly, the complexity of the model you can fit. However, leave one out cross validation involves fitting $n$ models, where $n$ is your number of training data. For the olympics example, this is only 27 model fits, but in practice many data sets consist thousands or millions of data points, and fitting many millions of models for estimating validation error isn't really practical. One option is to return to *hold out* validation, but another approach is to perform $k$-fold cross validation. In $k$-fold cross validation you split your data into $k$ parts. Then you use $k-1$ of those parts for training, and hold out one part for validation. Just like we did for the hold out validation above. In *cross* validation, however, you repeat this process. You swap the part of the data you just used for validation back in to the training set and select another part for validation. You then fit the model to the new training data and validate on the portion of data you've just extracted. Each split of training/validation data is called a *fold* and since you do this process $k$ times, the procedure is known as $k$-fold cross validation. The term *cross* refers to the fact that you cross over your validation portion back into the training data every time you perform a fold.  "
   ]
  },
  {
   "cell_type": "markdown",
   "metadata": {},
   "source": [
    "### Assignment Question 6\n",
    "\n",
    "Perform $k$-fold cross validation on the olympic data with your polynomial basis. Use $k$ set to 5 (e.g. five fold cross validation). Do the different forms of validation select different models? Does five fold cross validation always select the same model?\n",
    "\n",
    "*20 marks*\n",
    "\n",
    "###  Do the different forms of validation select different models? \n",
    "\n",
    "    Different form of validation select different models. \n",
    "\n",
    "### Does five fold cross validation always select the same model?\n",
    "    \n",
    "    No, because the suffle list before the train, it always chooses a different model for the minimum valid error.\n",
    "    But for the train valid, with the degree go large, the training error go small because higher order polynomial functions include lower order polynomial functions"
   ]
  },
  {
   "cell_type": "markdown",
   "metadata": {},
   "source": [
    "*Note*: The data doesn't divide into 5 equal size partitions for the five fold cross validation error. Don't worry about this too much. Two of the partitions will have an extra data point. You might find `np.random.permutation?` useful."
   ]
  },
  {
   "cell_type": "code",
   "execution_count": 68,
   "metadata": {},
   "outputs": [
    {
     "name": "stdout",
     "output_type": "stream",
     "text": [
      "\n",
      " degree is : 0\n",
      "average train error  0.006561643364633618 average valid error 0.004789201103098338\n",
      "\n",
      " degree is : 1\n",
      "average train error  0.005497131452166538 average valid error 0.0026599861359135044\n",
      "\n",
      " degree is : 2\n",
      "average train error  0.0035846461330801445 average valid error 0.0015611317092580972\n",
      "\n",
      " degree is : 3\n",
      "average train error  0.003373741842043875 average valid error 0.0012221755473037505\n",
      "\n",
      " degree is : 4\n",
      "average train error  0.002853952415721019 average valid error 0.000657835123630255\n",
      "\n",
      " degree is : 5\n",
      "average train error  0.002641599379218076 average valid error 0.0004006497143468826\n",
      "\n",
      " degree is : 6\n",
      "average train error  0.0022248487265875212 average valid error 0.0009135591841355386\n",
      "\n",
      " degree is : 7\n",
      "average train error  0.0022246945963992435 average valid error 0.000910276125889201\n",
      "\n",
      " degree is : 8\n",
      "average train error  0.0021185412679018477 average valid error 0.0007261439507602795\n",
      "\n",
      " degree is : 9\n",
      "average train error  0.001992923862281902 average valid error 0.000736871635909696\n",
      "\n",
      " degree is : 10\n",
      "average train error  0.0018129738137650825 average valid error 0.0004338649302492802\n",
      "\n",
      " degree is : 11\n",
      "average train error  0.0007600415889120983 average valid error 0.0023689322144300994\n",
      "\n",
      " degree is : 12\n",
      "average train error  0.0007600276032535714 average valid error 0.0023686319369009773\n",
      "\n",
      " degree is : 13\n",
      "average train error  0.0006243709017973089 average valid error 0.0016799158955008696\n",
      "\n",
      " degree is : 14\n",
      "average train error  0.0006019516870723681 average valid error 0.001558215372102855\n",
      "\n",
      " degree is : 15\n",
      "average train error  0.0005272236845467702 average valid error 0.0008762633984141652\n",
      "\n",
      " degree is : 16\n",
      "average train error  0.000525529937693364 average valid error 0.0009876612775286857\n",
      "\n",
      " degree is : 17\n",
      "average train error  0.0005000410050356606 average valid error 0.0018712874077320718\n",
      "minimun train error  0.06750553567981417  which degree is 17\n",
      "minimun valid error  0.08429007174263671  which degree is 13\n"
     ]
    }
   ],
   "source": [
    "#### Question 6 Answer Code\n",
    "# Write code for you answer to this question in this box\n",
    "# Do not delete these comments, otherwise you will get zero for this answer.\n",
    "# Make sure your code has run and the answer is correct *before* submitting your notebook for marking.\n",
    "import numpy as np\n",
    "\n",
    "def shuffle_in_unison(x,y):\n",
    "    assert len(x) == len(y)\n",
    "    shuffled_x = np.empty(x.shape)\n",
    "    shuffled_y = np.empty(y.shape)\n",
    "    permutation = np.random.permutation(len(x))\n",
    "    for old_index, new_index in enumerate(permutation):\n",
    "        shuffled_x[new_index] = x[old_index]\n",
    "        shuffled_y[new_index] = y[old_index]\n",
    "    return shuffled_x, shuffled_y\n",
    "\n",
    "\n",
    "def get_data_and_train_and_valid_with_gap(gap):\n",
    "    data = pods.datasets.olympic_marathon_men()\n",
    "    x = data['X']\n",
    "    y = data['Y']\n",
    "    x_new,y_new = shuffle_in_unison(x,y)\n",
    "    for num in range(18):   \n",
    "        print ('\\n degree is :',num)\n",
    "        train_error,valid_error = 0,0\n",
    "        for index in range(int(len(x)/gap)):\n",
    "            x_valid = x_new[index:index+gap]          \n",
    "            x_train = np.concatenate((x_new[0:index], x_new[index+gap:]), axis=0)\n",
    "            y_valid = y_new[index:index+gap]          \n",
    "            y_train = np.concatenate((y[0:index], y_new[index+gap:]), axis=0)\n",
    "            train_error,valid_error = train_and_valid(x_train,y_train,x_valid,y_valid,polynomial,num,1956,120)\n",
    "            train_error +=  train_error\n",
    "            valid_error += valid_error\n",
    "        if num == 0:\n",
    "            minimun_training_error = train_error\n",
    "            minimun_training_degree = 0\n",
    "            minimun_valid_error = valid_error\n",
    "            minimun_valid_degree = 0\n",
    "        if minimun_training_error > train_error:\n",
    "            minimun_training_degree = num\n",
    "            minimun_training_error = train_error\n",
    "        if minimun_valid_error > valid_error:\n",
    "            minimun_valid_degree = num\n",
    "            minimun_valid_error = train_error\n",
    "        print('average train error ',float(train_error/len(x)/gap),'average valid error',float(valid_error/len(x)/gap))\n",
    "    print ('minimun train error ', float(minimun_training_error), ' which degree is', minimun_training_degree)\n",
    "    print ('minimun valid error ', float(minimun_valid_error), ' which degree is', minimun_valid_degree)\n",
    "get_data_and_train_and_valid_with_gap(5)"
   ]
  },
  {
   "cell_type": "code",
   "execution_count": null,
   "metadata": {},
   "outputs": [],
   "source": []
  }
 ],
 "metadata": {
  "kernelspec": {
   "display_name": "Python 3",
   "language": "python",
   "name": "python3"
  },
  "language_info": {
   "codemirror_mode": {
    "name": "ipython",
    "version": 3
   },
   "file_extension": ".py",
   "mimetype": "text/x-python",
   "name": "python",
   "nbconvert_exporter": "python",
   "pygments_lexer": "ipython3",
   "version": "3.6.3"
  }
 },
 "nbformat": 4,
 "nbformat_minor": 1
}
